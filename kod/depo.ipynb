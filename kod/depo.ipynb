{
 "cells": [
  {
   "cell_type": "code",
   "execution_count": null,
   "id": "4d8b5ad3",
   "metadata": {},
   "outputs": [],
   "source": [
    "nereye.clear()\n",
    "nereye.send_keys(\"Istanbul\")\n",
    "# Istanbul secenegini bul ve tikla\n",
    "nereye_element = wait.until(\n",
    "    EC.element_to_be_clickable((By.XPATH, '//li[contains(@class, \"item\") and contains(@class, \"highlighted\")]'))\n",
    ")\n",
    "nereye_element.click()\n",
    "sleep(1)\n"
   ]
  }
 ],
 "metadata": {
  "language_info": {
   "name": "python"
  }
 },
 "nbformat": 4,
 "nbformat_minor": 5
}
