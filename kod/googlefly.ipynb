{
 "cells": [
  {
   "cell_type": "code",
   "execution_count": 1,
   "id": "f1bfa98d",
   "metadata": {},
   "outputs": [],
   "source": [
    "from bs4 import BeautifulSoup\n",
    "from selenium import webdriver\n",
    "from selenium.webdriver.common.by import By\n",
    "from selenium.webdriver.common.keys import Keys\n",
    "import time\n",
    "import pandas as pd\n",
    "import time\n",
    "import re\n",
    "from time import sleep\n",
    "from selenium.webdriver.support.ui import WebDriverWait\n",
    "from selenium.webdriver.support import expected_conditions as EC\n",
    "from selenium.webdriver.common.action_chains import ActionChains\n",
    "from selenium.common.exceptions import TimeoutException\n",
    "from datetime import datetime\n",
    "import locale"
   ]
  },
  {
   "cell_type": "code",
   "execution_count": 350,
   "id": "afedf385",
   "metadata": {},
   "outputs": [
    {
     "name": "stdout",
     "output_type": "stream",
     "text": [
      "Requirement already satisfied: openpyxl in c:\\users\\90546\\appdata\\local\\packages\\pythonsoftwarefoundation.python.3.11_qbz5n2kfra8p0\\localcache\\local-packages\\python311\\site-packages (3.1.5)\n",
      "Requirement already satisfied: et-xmlfile in c:\\users\\90546\\appdata\\local\\packages\\pythonsoftwarefoundation.python.3.11_qbz5n2kfra8p0\\localcache\\local-packages\\python311\\site-packages (from openpyxl) (2.0.0)\n",
      "Note: you may need to restart the kernel to use updated packages.\n"
     ]
    },
    {
     "name": "stderr",
     "output_type": "stream",
     "text": [
      "\n",
      "[notice] A new release of pip is available: 24.3.1 -> 25.1\n",
      "[notice] To update, run: C:\\Users\\90546\\AppData\\Local\\Microsoft\\WindowsApps\\PythonSoftwareFoundation.Python.3.11_qbz5n2kfra8p0\\python.exe -m pip install --upgrade pip\n"
     ]
    }
   ],
   "source": [
    "pip install openpyxl"
   ]
  },
  {
   "cell_type": "code",
   "execution_count": 351,
   "id": "53e22adb",
   "metadata": {},
   "outputs": [],
   "source": [
    "    # WebDriver'ı başlat\n",
    "driver = webdriver.Chrome()\n",
    "\n",
    "try:\n",
    "    # Google'ı aç\n",
    "    driver.get(\"https://www.google.com\")\n",
    "\n",
    "    # Arama çubuğunu bul\n",
    "    search_box = driver.find_element(By.NAME, \"q\")\n",
    "\n",
    "    # Arama terimini yaz ve Enter tuşuna bas\n",
    "    driver.get(\"https://www.google.com/travel/flights?tfs=CBwQARoeag0IAhIJL20vMDR0d2g2cg0IAxIJL20vMDk5NDltGh5qDQgDEgkvbS8wOTk0OW1yDQgCEgkvbS8wNHR3aDZAAUgBcAGCAQsI____________AZgBAQ&tfu=KgIIAw\")\n",
    "\n",
    "    # Bir süre bekle, sonuçların yüklenmesini sağla\n",
    "    time.sleep(3)\n",
    "\n",
    "finally:\n",
    "    # Tarayıcıyı kapat\n",
    "    pass"
   ]
  },
  {
   "cell_type": "code",
   "execution_count": 352,
   "id": "a883882d",
   "metadata": {},
   "outputs": [],
   "source": [
    "nereden = driver.find_element(By.XPATH, \"/html[1]/body[1]/c-wiz[2]/div[1]/div[2]/c-wiz[1]/div[1]/c-wiz[1]/div[2]/div[1]/div[1]/div[1]/div[1]/div[2]/div[1]/div[1]/div[1]/div[1]/div[1]/div[1]/div[1]/input[1]\")  # Replace \"source-id\" with the actual ID of the source element\n",
    "\n",
    "sleep(1)"
   ]
  },
  {
   "cell_type": "code",
   "execution_count": null,
   "id": "5d92a13f",
   "metadata": {},
   "outputs": [],
   "source": [
    "nereden.clear()\n",
    "wait = WebDriverWait(driver, 10)\n",
    "# Nereden gitmek istediğinizi yazın \n",
    " nereden.send_keys(\"Ankara\")\n",
    "#nereden.click()\n",
    "ankara_element = wait.until(\n",
    "    EC.element_to_be_clickable((By.CSS_SELECTOR, '[jsname=\"V1ur5d\"].zsRT0d'))\n",
    ")\n",
    "ankara_element.click()\n",
    "sleep(1)\n",
    "\n",
    "\n"
   ]
  },
  {
   "cell_type": "code",
   "execution_count": null,
   "id": "1ce715b0",
   "metadata": {},
   "outputs": [],
   "source": [
    "nereye_input = WebDriverWait(driver, 10).until(\n",
    "    EC.element_to_be_clickable((By.XPATH, '//input[@aria-label=\"Nereye?\"]'))\n",
    ")\n",
    "\n",
    "\n",
    "nereye_input.clear()  \n",
    "#Nereye gitmek istediğinizi yazın\n",
    "nereye_input.send_keys(\"Antalya\") \n",
    "\n",
    "antalya_element = WebDriverWait(driver, 10).until(\n",
    "    EC.visibility_of_element_located((By.CSS_SELECTOR, '[jsname=\"V1ur5d\"]'))\n",
    ")\n",
    "\n",
    "antalya_element.click()  \n",
    "\n",
    "\n",
    "time.sleep(1)\n",
    "\n"
   ]
  },
  {
   "cell_type": "code",
   "execution_count": 355,
   "id": "b11c74c1",
   "metadata": {},
   "outputs": [],
   "source": [
    "ara_butonu = wait.until(\n",
    "    EC.element_to_be_clickable((By.XPATH, '//button[@aria-label=\"Ara\"]'))\n",
    ")\n",
    "ara_butonu.click()"
   ]
  },
  {
   "cell_type": "code",
   "execution_count": null,
   "id": "de07757a",
   "metadata": {},
   "outputs": [],
   "source": []
  }
 ],
 "metadata": {
  "kernelspec": {
   "display_name": "Python 3",
   "language": "python",
   "name": "python3"
  },
  "language_info": {
   "codemirror_mode": {
    "name": "ipython",
    "version": 3
   },
   "file_extension": ".py",
   "mimetype": "text/x-python",
   "name": "python",
   "nbconvert_exporter": "python",
   "pygments_lexer": "ipython3",
   "version": "3.11.9"
  }
 },
 "nbformat": 4,
 "nbformat_minor": 5
}
